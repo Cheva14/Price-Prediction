{
  "nbformat": 4,
  "nbformat_minor": 0,
  "metadata": {
    "colab": {
      "provenance": []
    },
    "kernelspec": {
      "name": "python3",
      "display_name": "Python 3"
    },
    "language_info": {
      "name": "python"
    }
  },
  "cells": [
    {
      "cell_type": "markdown",
      "source": [
        "# Coursework 2"
      ],
      "metadata": {
        "id": "xdb21y6q_ZE9"
      }
    },
    {
      "cell_type": "markdown",
      "source": [
        "### This code reads a CSV file, processes the data, and uses it to predict the price of a car based on various factors such as the year, manufacturer, condition, fuel type, and odometer value. The detailed explanation of the code is as follows:"
      ],
      "metadata": {
        "id": "OXeBU3Gd_ypI"
      }
    },
    {
      "cell_type": "markdown",
      "source": [
        "The code imports the pandas and numpy libraries and reads a CSV file named \"vehicles_michigan.csv\" into a Pandas DataFrame using the `pd.read_csv()` method. "
      ],
      "metadata": {
        "id": "2QuyGtSp_1i2"
      }
    },
    {
      "cell_type": "code",
      "source": [
        "# import libraries\n",
        "import pandas as pd\n",
        "import numpy as np\n",
        "# load dataframe\n",
        "df = pd.read_csv('./vehicles_michigan.csv')"
      ],
      "metadata": {
        "id": "jMBglIkIKlTi"
      },
      "execution_count": null,
      "outputs": []
    },
    {
      "cell_type": "markdown",
      "source": [
        "The code processes the data to create predictor variables and a target variable, `y`:\n",
        "\n",
        "  The predictor variables `predictor1` and `predictor5` are created by converting the 'year' and 'odometer' column of the DataFrame to a numpy array of type float using `pd.to_numeric()` and `np.array()` methods. They are then transposed to a row vector using `.T`.\n",
        "\n",
        "  The predictor variables `predictor2`, `predictor3`, and `predictor4` are created by using the `pd.get_dummies()` method to convert the 'manufacturer', 'condition', and 'fuel' column of the DataFrame into dummy variables. The `drop_first=True` argument drops the first dummy variable to avoid the dummy variable trap. \n",
        "  \n",
        "  The target variable `y` is created by converting the 'price' column of the DataFrame to a numpy array of type float using `np.array()` method. It is then transposed to a row vector using `.T`.\n"
      ],
      "metadata": {
        "id": "O2l6SvL9_Zlf"
      }
    },
    {
      "cell_type": "code",
      "source": [
        "predictor1 = np.array(pd.to_numeric(df['year']), ndmin=2).T # year column into array\n",
        "predictor2 = pd.get_dummies(df['manufacturer'], drop_first=True) #manufacturer column to dummies values\n",
        "predictor3 = pd.get_dummies(df['condition'], drop_first=True) \n",
        "predictor4 = pd.get_dummies(df['fuel'], drop_first=True) \n",
        "predictor5 = np.array(pd.to_numeric(df['odometer']), ndmin=2).T \n",
        "y = np.array(df['price'], ndmin=2).T "
      ],
      "metadata": {
        "id": "YgjKJ0xz99EO"
      },
      "execution_count": null,
      "outputs": []
    },
    {
      "cell_type": "markdown",
      "source": [
        "The code creates a matrix `X` by concatenating the predictor variables together using `np.column_stack()` method. The first column of `X` is a column vector of ones, which corresponds to the intercept term of the multiple linear regression model.\n",
        "\n",
        "First, It calculates the matrix `XTX` as the dot product of the transpose of `X` and `X`. Secondly, it calculates the inverse of `XTX` using `np.linalg.inv()` method and assigns it to `XTX_inv`. Thirdly, it calculates the matrix `XTX_invXT` as the dot product of `XTX_inv` and the transpose of `X`. Finally, it calculates the weight vector `w` as the dot product of `XTX_invXT` and `y`.\n"
      ],
      "metadata": {
        "id": "JyosfIF__aWs"
      }
    },
    {
      "cell_type": "code",
      "source": [
        "X = np.column_stack([np.ones(predictor1.shape), predictor1, predictor2, predictor3, predictor4, predictor5]) # predictors into one matrix\n",
        "XTX = np.dot(X.T, X) # Step 1\n",
        "XTX_inv = np.linalg.inv(XTX) # Step 2\n",
        "XTX_invXT = np.dot(XTX_inv, X.T) # Step 3\n",
        "w = np.dot(XTX_invXT, y) # least squares parameters"
      ],
      "metadata": {
        "id": "X-RappBJ99c7"
      },
      "execution_count": null,
      "outputs": []
    },
    {
      "cell_type": "markdown",
      "source": [
        "The code prompts the user to input the car's year, manufacturer, condition, fuel type, and odometer.\n",
        "\n",
        "It processes the user input to create a vector `x` containing the same predictor variables as `X` for the car that the user entered. The first element of `x` is set to 1, corresponding to the intercept term of the multiple linear regression model. Then, it calculates the predicted price of the car as the dot product of `x` and `w`. Finally, it prints the predicted price of the car in a formatted string."
      ],
      "metadata": {
        "id": "YrwFnaah_a18"
      }
    },
    {
      "cell_type": "code",
      "source": [
        "year = int(input(\"Enter the year of the car: \")) # Try '2018'\n",
        "manufacturer = input(\"Enter the manufacturer of the car: \") # Try 'tesla'\n",
        "condition = input(\"Enter the condition of the car: \") # Try 'good'\n",
        "fuel = input(\"Enter the fuel of the car: \") # Try 'electric'\n",
        "odometer = int(input(\"Enter the odometer of the car: \")) # Try '22000'\n",
        "\n",
        "x1 = np.array([year]) # input year \n",
        "manufacturers = np.sort(df['manufacturer'].unique()) # get manufacturers list\n",
        "x2_arr = np.zeros(len(manufacturers)) # populate dummie values\n",
        "x2_arr[np.where(manufacturers == manufacturer)] = 1 # add 1 to the input manufacturer\n",
        "x2 = x2_arr[1:] \n",
        "conditions = np.sort(df['condition'].unique())\n",
        "x3_arr = np.zeros(len(conditions))\n",
        "x3_arr[np.where(conditions == condition)] = 1\n",
        "x3 = x3_arr[1:] \n",
        "fuels = np.sort(df['fuel'].unique())\n",
        "x4_arr = np.zeros(len(fuels))\n",
        "x4_arr[np.where(fuels == fuel)] = 1\n",
        "x4 = x4_arr[1:] \n",
        "x5 = np.array([odometer])\n",
        "\n",
        "x = np.concatenate(([1], x1, x2, x3, x4, x5)) # get input values into one matrix\n",
        "price = np.dot(x, w) # calculate regression\n",
        "\n",
        "print(\"The car price is: $\", end = '')\n",
        "print(f\"{price[0]:,.2f}\") # Should get over ~$40,000"
      ],
      "metadata": {
        "colab": {
          "base_uri": "https://localhost:8080/"
        },
        "id": "4WTEoDb899mz",
        "outputId": "4d53a5b1-9aa1-4b80-add6-af82c9d92c97"
      },
      "execution_count": null,
      "outputs": [
        {
          "output_type": "stream",
          "name": "stdout",
          "text": [
            "Enter the year of the car: 2021\n",
            "Enter the manufacturer of the car: tesla\n",
            "Enter the condition of the car: excellent\n",
            "Enter the fuel of the car: electric\n",
            "Enter the odometer of the car: 22000\n",
            "The car price is: $43,172.91\n"
          ]
        }
      ]
    }
  ]
}