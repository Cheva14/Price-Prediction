{
  "nbformat": 4,
  "nbformat_minor": 0,
  "metadata": {
    "colab": {
      "provenance": []
    },
    "kernelspec": {
      "name": "python3",
      "display_name": "Python 3"
    },
    "language_info": {
      "name": "python"
    }
  },
  "cells": [
    {
      "cell_type": "code",
      "execution_count": 20,
      "metadata": {
        "colab": {
          "base_uri": "https://localhost:8080/"
        },
        "id": "oJS6H09D_usE",
        "outputId": "1a2beffb-bf45-4998-c6ac-90eb6db52e5f"
      },
      "outputs": [
        {
          "output_type": "stream",
          "name": "stdout",
          "text": [
            "Enter a country code (e.g., US, UK): US\n",
            "Enter how many stocks to display code (eg: '3'): 3\n",
            "Best performing stocks in US:\n",
            "GOOGL: 6.85%\n",
            "AMZN: 2.97%\n",
            "MSFT: -6.67%\n"
          ]
        }
      ],
      "source": [
        "import yfinance as yf\n",
        "\n",
        "def get_best_stocks(country,  num_stocks=5, period='1mo'):\n",
        "    best_stocks = []\n",
        "\n",
        "    # Change this 'if statement' to loading the dataset with all the countries and their stock symbols.\n",
        "    if country == 'US':\n",
        "        stock_symbols = ['AAPL', 'MSFT', 'GOOGL', 'AMZN', 'TSLA']  # Example US stock symbols\n",
        "    elif country == 'UK':\n",
        "        stock_symbols = ['BP.L', 'HSBA.L', 'VOD.L', 'GSK.L']  # Example UK stock symbols\n",
        "\n",
        "    #for each symbol, get historical stock data, and calculate their returns in a specific period. (1 month is set by default.)\n",
        "    for symbol in stock_symbols:\n",
        "        stock = yf.Ticker(symbol)\n",
        "        stock_history = stock.history(period=period)\n",
        "        if len(stock_history) > 0:\n",
        "            stock_return = (stock_history['Close'][-1] - stock_history['Open'][0]) / stock_history['Open'][0]\n",
        "            best_stocks.append((symbol, stock_return))\n",
        "\n",
        "    # order by best performing\n",
        "    best_stocks.sort(key=lambda x: x[1], reverse=True)\n",
        "    return best_stocks[:num_stocks]\n",
        "\n",
        "\n",
        "#MAIN\n",
        "if __name__ == \"__main__\":\n",
        "    #ask user for country, and run function.\n",
        "    country = input(\"Enter a country code (e.g., US, UK): \")\n",
        "    num_stocks = int(input(\"Enter how many stocks to display code (eg: '3'): \"))\n",
        "    best_stocks = get_best_stocks(country, num_stocks)\n",
        "\n",
        "    #print results\n",
        "    print(f\"Best performing stocks in {country}:\")\n",
        "    for stock, return_percent in best_stocks:\n",
        "        print(f\"{stock}: {return_percent:.2%}\")\n"
      ]
    }
  ]
}